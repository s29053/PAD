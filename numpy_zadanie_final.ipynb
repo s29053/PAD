{
  "nbformat": 4,
  "nbformat_minor": 0,
  "metadata": {
    "colab": {
      "provenance": [],
      "include_colab_link": true
    },
    "kernelspec": {
      "name": "python3",
      "display_name": "Python 3"
    },
    "language_info": {
      "name": "python"
    }
  },
  "cells": [
    {
      "cell_type": "markdown",
      "metadata": {
        "id": "view-in-github",
        "colab_type": "text"
      },
      "source": [
        "<a href=\"https://colab.research.google.com/github/s29053/PAD/blob/main/numpy_zadanie_final.ipynb\" target=\"_parent\"><img src=\"https://colab.research.google.com/assets/colab-badge.svg\" alt=\"Open In Colab\"/></a>"
      ]
    },
    {
      "cell_type": "code",
      "execution_count": 80,
      "metadata": {
        "id": "fcTrGcxNjchw"
      },
      "outputs": [],
      "source": [
        "import numpy as np\n",
        "import pandas as pd\n",
        "import matplotlib.pyplot as plt\n",
        "import seaborn as sns"
      ]
    },
    {
      "cell_type": "code",
      "source": [
        "# zadanie 1\n",
        "pres_heights = pd.read_csv('president_heights.csv')\n",
        "heights=np.array(pres_heights['height(cm)'])\n",
        "print(heights)"
      ],
      "metadata": {
        "colab": {
          "base_uri": "https://localhost:8080/"
        },
        "id": "ERzCHGL7kEQd",
        "outputId": "1c0c01c7-e366-403d-a550-735c3820d183"
      },
      "execution_count": 81,
      "outputs": [
        {
          "output_type": "stream",
          "name": "stdout",
          "text": [
            "[189 170 189 163 183 171 185 168 173 183 173 173 175 178 183 193 178 173\n",
            " 174 183 183 168 170 178 182 180 183 178 182 188 175 179 183 193 182 183\n",
            " 177 185 188 188 182 185]\n"
          ]
        }
      ]
    },
    {
      "cell_type": "code",
      "source": [
        "print(\"Mean height: \", np.mean(heights))\n",
        "print(\"Standard deviation: \", np.std(heights))\n",
        "print(\"Minimum height: \", np.min(heights))\n",
        "print(\"Maximum height: \", np.max(heights))\n",
        "print(\"25th percentile: \", np.percentile(heights, 25))\n",
        "print(\"Median: \", np.median(heights))\n",
        "print(\"75th percentile: \", np.percentile(heights, 75))"
      ],
      "metadata": {
        "colab": {
          "base_uri": "https://localhost:8080/"
        },
        "id": "lItXzpROkcG9",
        "outputId": "fb52a89e-8364-4427-9afb-a591eba53a57"
      },
      "execution_count": 82,
      "outputs": [
        {
          "output_type": "stream",
          "name": "stdout",
          "text": [
            "Mean height:  179.73809523809524\n",
            "Standard deviation:  6.931843442745892\n",
            "Minimum height:  163\n",
            "Maximum height:  193\n",
            "25th percentile:  174.25\n",
            "Median:  182.0\n",
            "75th percentile:  183.0\n"
          ]
        }
      ]
    },
    {
      "cell_type": "code",
      "source": [
        "# zadanie 2\n",
        "zad_2 = np.genfromtxt('Zadanie_2.csv', delimiter=';', dtype=\"i\")\n",
        "print(zad_2)"
      ],
      "metadata": {
        "colab": {
          "base_uri": "https://localhost:8080/"
        },
        "id": "edMPh5p_m7dU",
        "outputId": "f6f71b64-ec5a-45d6-f86e-cb0359b28af3"
      },
      "execution_count": 83,
      "outputs": [
        {
          "output_type": "stream",
          "name": "stdout",
          "text": [
            "[[  1   2  15 -59   9   3  75   6   7   1]\n",
            " [  0   5   0   4   6  16  44   7   1   1]\n",
            " [  7  14   3 -10   9  15  73   8   2   9]\n",
            " [  1   5  15 -54   5  15  35   8   6   4]\n",
            " [  0   8   5 -18   7  16  91   6   7   9]\n",
            " [  7  18  23 -90   4   8  31   0   1   7]\n",
            " [  2   8  20 -72   4   1  91   9   4   4]\n",
            " [  4  12  18 -65   6   9  76   4   9   9]\n",
            " [  7  15  13 -52   5   7  54   2   7   0]\n",
            " [  2   9  15 -56   6   1  98   4   8   4]]\n"
          ]
        }
      ]
    },
    {
      "cell_type": "code",
      "source": [
        "w, v = np.linalg.eig(zad_2)\n",
        "print(\"Wartości własne:\\n\",w)"
      ],
      "metadata": {
        "colab": {
          "base_uri": "https://localhost:8080/"
        },
        "id": "eoOHGMIFnx0z",
        "outputId": "528fcb4c-46c2-4be9-c229-3ff54cdef3ea"
      },
      "execution_count": 84,
      "outputs": [
        {
          "output_type": "stream",
          "name": "stdout",
          "text": [
            "Wartości własne:\n",
            " [104.34960192 +0.j         -23.35660516+18.84992811j\n",
            " -23.35660516-18.84992811j  15.92989017 +0.j\n",
            "  -4.99456452 +0.j           0.35205717 +5.80125175j\n",
            "   0.35205717 -5.80125175j  -1.03383491 +0.j\n",
            "   3.87900166 +1.42651533j   3.87900166 -1.42651533j]\n"
          ]
        }
      ]
    },
    {
      "cell_type": "code",
      "source": [
        "print(\"Wektory własne:\\n\", v)"
      ],
      "metadata": {
        "colab": {
          "base_uri": "https://localhost:8080/"
        },
        "id": "-Rmza26sx4bp",
        "outputId": "9a4a9a1b-f127-4635-90ae-4efa4299b73f"
      },
      "execution_count": 85,
      "outputs": [
        {
          "output_type": "stream",
          "name": "stdout",
          "text": [
            "Wektory własne:\n",
            " [[-0.29000475+0.j         -0.07545445+0.07743149j -0.07545445-0.07743149j\n",
            "  -0.03544485+0.j          0.42681634+0.j         -0.22172831-0.29869259j\n",
            "  -0.22172831+0.29869259j  0.41343726+0.j         -0.28670255+0.21891569j\n",
            "  -0.28670255-0.21891569j]\n",
            " [-0.24163153+0.j          0.41229621+0.09197324j  0.41229621-0.09197324j\n",
            "   0.45873475+0.j         -0.27056206+0.j         -0.01331344+0.1422557j\n",
            "  -0.01331344-0.1422557j  -0.31591047+0.j          0.41954481-0.10561864j\n",
            "   0.41954481+0.10561864j]\n",
            " [-0.41060573+0.j          0.37509638-0.00960818j  0.37509638+0.00960818j\n",
            "   0.64067986+0.j         -0.37967609+0.j         -0.60525232+0.j\n",
            "  -0.60525232-0.j          0.6457768 +0.j          0.63631555+0.j\n",
            "   0.63631555-0.j        ]\n",
            " [-0.18899971+0.j         -0.05624951+0.174848j   -0.05624951-0.174848j\n",
            "   0.25174536+0.j         -0.07625465+0.j         -0.14870016-0.00795735j\n",
            "  -0.14870016+0.00795735j  0.15206852+0.j          0.21373907+0.00228636j\n",
            "   0.21373907-0.00228636j]\n",
            " [-0.42862199+0.j          0.47707538+0.14580554j  0.47707538-0.14580554j\n",
            "   0.39445834+0.j         -0.69542141+0.j          0.07336021-0.43070469j\n",
            "   0.07336021+0.43070469j -0.25948775+0.j          0.20250102-0.00411374j\n",
            "   0.20250102+0.00411374j]\n",
            " [-0.14730562+0.j         -0.57352911+0.j         -0.57352911-0.j\n",
            "   0.10071325+0.j          0.30158403+0.j         -0.04758838+0.12911829j\n",
            "  -0.04758838-0.12911829j  0.21274791+0.j         -0.1503483 +0.03452906j\n",
            "  -0.1503483 -0.03452906j]\n",
            " [-0.34660607+0.j         -0.13987374+0.06837303j -0.13987374-0.06837303j\n",
            "  -0.04800705+0.j          0.06798106+0.j          0.00512204+0.04215641j\n",
            "   0.00512204-0.04215641j  0.05365357+0.j         -0.0534517 +0.00550802j\n",
            "  -0.0534517 -0.00550802j]\n",
            " [-0.34919853+0.j         -0.08414467+0.07749664j -0.08414467-0.07749664j\n",
            "   0.25925893+0.j         -0.10039982+0.j         -0.06761437-0.25584347j\n",
            "  -0.06761437+0.25584347j -0.38214447+0.j          0.29485109-0.01300678j\n",
            "   0.29485109+0.01300678j]\n",
            " [-0.2440048 +0.j         -0.13777908+0.00402196j -0.13777908-0.00402196j\n",
            "   0.27709282+0.j         -0.00524365+0.j          0.21866893+0.04463336j\n",
            "   0.21866893-0.04463336j -0.12045798+0.j          0.27558332+0.02285482j\n",
            "   0.27558332-0.02285482j]\n",
            " [-0.38231403+0.j         -0.00476199+0.03456836j -0.00476199-0.03456836j\n",
            "   0.04918165+0.j          0.07322815+0.j          0.1819345 -0.29687727j\n",
            "   0.1819345 +0.29687727j -0.11445044+0.j          0.02830199+0.00579727j\n",
            "   0.02830199-0.00579727j]]\n"
          ]
        }
      ]
    },
    {
      "cell_type": "code",
      "source": [
        "print(\"Macierz odwrotna:\\n\", np.linalg.inv(zad_2))"
      ],
      "metadata": {
        "colab": {
          "base_uri": "https://localhost:8080/"
        },
        "id": "FtAJtD-HodR3",
        "outputId": "c36cb825-ede9-4ebd-b3da-b737bb7e37b3"
      },
      "execution_count": 86,
      "outputs": [
        {
          "output_type": "stream",
          "name": "stdout",
          "text": [
            "Macierz odwrotna:\n",
            " [[ 0.47461371  0.13269253 -0.24726695 -0.82965177  0.28250384 -0.17012825\n",
            "   0.58274426  0.83686705  0.4146721  -1.56942847]\n",
            " [-0.38032531 -0.11226789  0.23216372  0.58853747 -0.2508954   0.10174485\n",
            "  -0.40729564 -0.58325689 -0.2335154   1.11832726]\n",
            " [ 0.13559662  0.58950334 -0.24709855 -0.58789838 -0.30170699 -0.12721938\n",
            "   0.23740295  1.01003036 -0.02151387 -0.64590149]\n",
            " [ 0.01425207  0.14570726 -0.04557569 -0.12721972 -0.08945184 -0.03756624\n",
            "   0.03910376  0.23606066 -0.01436771 -0.11345749]\n",
            " [-0.09473246  0.01725249  0.19145597  0.32960274 -0.28626296  0.08348529\n",
            "  -0.37577603 -0.27295934 -0.25855803  0.74691827]\n",
            " [ 0.16387032  0.10075684 -0.15404907 -0.29794662  0.16916877 -0.02827782\n",
            "   0.20469921  0.28036265  0.15086178 -0.5882585 ]\n",
            " [ 0.04288003  0.02246462 -0.0366803  -0.09024915  0.04322146 -0.01047861\n",
            "   0.06167348  0.07009721  0.0367806  -0.14185925]\n",
            " [-0.26858433 -0.21167346  0.25168367  0.55607234 -0.16804333  0.01066975\n",
            "  -0.22435849 -0.52957038 -0.15757224  0.77302113]\n",
            " [-0.15583541 -0.13041404  0.0984558   0.3150966  -0.09916278 -0.04426337\n",
            "  -0.20832614 -0.18404388 -0.04309498  0.45794224]\n",
            " [-0.05970783 -0.11342903  0.09122544  0.11908074 -0.00311646  0.02370807\n",
            "  -0.07526552 -0.06924544 -0.10963836  0.16553689]]\n"
          ]
        }
      ]
    },
    {
      "cell_type": "code",
      "source": [
        "# zadanie 3\n",
        "rainfall=pd.read_csv('Seattle2014.csv')['PRCP'].values\n",
        "inches=rainfall/254.0\n",
        "inches.shape"
      ],
      "metadata": {
        "colab": {
          "base_uri": "https://localhost:8080/"
        },
        "id": "aKu0BFBRorql",
        "outputId": "3a03d65a-b36a-4484-f6c2-3084e184da8e"
      },
      "execution_count": 87,
      "outputs": [
        {
          "output_type": "execute_result",
          "data": {
            "text/plain": [
              "(365,)"
            ]
          },
          "metadata": {},
          "execution_count": 87
        }
      ]
    },
    {
      "cell_type": "code",
      "source": [
        "%matplotlib inline \n",
        "sns.set()\n",
        "plt.hist(inches, 40)"
      ],
      "metadata": {
        "colab": {
          "base_uri": "https://localhost:8080/",
          "height": 524
        },
        "id": "iRF1VEQ3pUE4",
        "outputId": "4935936c-87e7-403f-d270-82f6559ef2c6"
      },
      "execution_count": 88,
      "outputs": [
        {
          "output_type": "execute_result",
          "data": {
            "text/plain": [
              "(array([245.,  14.,  13.,  17.,   8.,   6.,   5.,   6.,   4.,   3.,   7.,\n",
              "          6.,   3.,   3.,   3.,   4.,   4.,   2.,   4.,   0.,   0.,   1.,\n",
              "          1.,   1.,   0.,   0.,   0.,   2.,   1.,   1.,   0.,   0.,   0.,\n",
              "          0.,   0.,   0.,   0.,   0.,   0.,   1.]),\n",
              " array([0.        , 0.04596457, 0.09192913, 0.1378937 , 0.18385827,\n",
              "        0.22982283, 0.2757874 , 0.32175197, 0.36771654, 0.4136811 ,\n",
              "        0.45964567, 0.50561024, 0.5515748 , 0.59753937, 0.64350394,\n",
              "        0.6894685 , 0.73543307, 0.78139764, 0.8273622 , 0.87332677,\n",
              "        0.91929134, 0.96525591, 1.01122047, 1.05718504, 1.10314961,\n",
              "        1.14911417, 1.19507874, 1.24104331, 1.28700787, 1.33297244,\n",
              "        1.37893701, 1.42490157, 1.47086614, 1.51683071, 1.56279528,\n",
              "        1.60875984, 1.65472441, 1.70068898, 1.74665354, 1.79261811,\n",
              "        1.83858268]),\n",
              " <a list of 40 Patch objects>)"
            ]
          },
          "metadata": {},
          "execution_count": 88
        },
        {
          "output_type": "display_data",
          "data": {
            "text/plain": [
              "<Figure size 432x288 with 1 Axes>"
            ],
            "image/png": "[encoded data removed]"
          },
          "metadata": {}
        }
      ]
    },
    {
      "cell_type": "code",
      "source": [
        "# liczba dni kiedy nie padało\n",
        "print(\"Number days without rain: \", np.count_nonzero(inches == 0))"
      ],
      "metadata": {
        "colab": {
          "base_uri": "https://localhost:8080/"
        },
        "id": "Iv8aZMGtp_Xj",
        "outputId": "0983de1e-8940-4be8-b502-7dfd3d19b410"
      },
      "execution_count": 89,
      "outputs": [
        {
          "output_type": "stream",
          "name": "stdout",
          "text": [
            "Number days without rain:  215\n"
          ]
        }
      ]
    },
    {
      "cell_type": "code",
      "source": [
        "# liczba dni kiedy padało\n",
        "print(\"Number days with rain: \", np.count_nonzero(inches != 0))"
      ],
      "metadata": {
        "colab": {
          "base_uri": "https://localhost:8080/"
        },
        "id": "mS289oMIqSC6",
        "outputId": "69e2ebc8-3d25-4cab-a079-45f15f56dd1a"
      },
      "execution_count": 90,
      "outputs": [
        {
          "output_type": "stream",
          "name": "stdout",
          "text": [
            "Number days with rain:  150\n"
          ]
        }
      ]
    },
    {
      "cell_type": "code",
      "source": [
        "# liczba dni kiedy padało powyżej 0.5\n",
        "print(\"Days with more than 0.5 inches:\", np.count_nonzero(inches > 0.5))"
      ],
      "metadata": {
        "colab": {
          "base_uri": "https://localhost:8080/"
        },
        "id": "3O8-lLn7qU66",
        "outputId": "f4c12d24-b970-4a57-cab4-743c130139b9"
      },
      "execution_count": 91,
      "outputs": [
        {
          "output_type": "stream",
          "name": "stdout",
          "text": [
            "Days with more than 0.5 inches: 37\n"
          ]
        }
      ]
    },
    {
      "cell_type": "code",
      "source": [
        "# liczba dni kiedy padało ponizej 0.2\n",
        "print(\"Rainy days with < 0.2 inches  :\", np.count_nonzero((inches > 0) & (inches < 0.2)))"
      ],
      "metadata": {
        "colab": {
          "base_uri": "https://localhost:8080/"
        },
        "id": "PtCxKG9WqYZq",
        "outputId": "9d27faf7-3fde-4cee-f67c-cee10b4d7311"
      },
      "execution_count": 92,
      "outputs": [
        {
          "output_type": "stream",
          "name": "stdout",
          "text": [
            "Rainy days with < 0.2 inches  : 75\n"
          ]
        }
      ]
    },
    {
      "cell_type": "code",
      "source": [
        "# Medianę opadów w deszczowe dni w 2014 roku \n",
        "rainy = inches[inches > 0].copy()\n",
        "print(\"Median precip on rainy days in 2014 (inches): \", np.median(rainy))"
      ],
      "metadata": {
        "colab": {
          "base_uri": "https://localhost:8080/"
        },
        "id": "7SN7xBltsgUc",
        "outputId": "42494f2f-2f2c-4711-de8c-cecdd7785b3f"
      },
      "execution_count": 93,
      "outputs": [
        {
          "output_type": "stream",
          "name": "stdout",
          "text": [
            "Median precip on rainy days in 2014 (inches):  0.19488188976377951\n"
          ]
        }
      ]
    },
    {
      "cell_type": "code",
      "source": [
        "summer_2014 = inches[171:262].copy() # z 262 dniem włącznie\n",
        "print(\"Median precip on summer days in 2014 (inches): \", np.median(summer_2014))"
      ],
      "metadata": {
        "colab": {
          "base_uri": "https://localhost:8080/"
        },
        "id": "CiFU5Qw2s-tO",
        "outputId": "980ccada-a68c-4da2-a77f-bf9b9c2d8916"
      },
      "execution_count": 94,
      "outputs": [
        {
          "output_type": "stream",
          "name": "stdout",
          "text": [
            "Median precip on summer days in 2014 (inches):  0.0\n"
          ]
        }
      ]
    },
    {
      "cell_type": "code",
      "source": [
        "print(\"Maximum precip on summer days in 2014 (inches): \", np.max(summer_2014))"
      ],
      "metadata": {
        "colab": {
          "base_uri": "https://localhost:8080/"
        },
        "id": "_o8FUshet9Kx",
        "outputId": "b05c3910-119f-46b6-dfd9-72b8212bc63f"
      },
      "execution_count": 95,
      "outputs": [
        {
          "output_type": "stream",
          "name": "stdout",
          "text": [
            "Maximum precip on summer days in 2014 (inches):  0.8503937007874016\n"
          ]
        }
      ]
    },
    {
      "cell_type": "code",
      "source": [
        "inches[171:262] = -1.\n",
        "without_the_summer = inches[inches != -1]\n",
        "print(\"Maximum precip on non-summer rainy days (inches):\", np.max(without_the_summer))"
      ],
      "metadata": {
        "colab": {
          "base_uri": "https://localhost:8080/"
        },
        "id": "GDw7skNPuK-w",
        "outputId": "1774e370-2136-4295-d1b6-539ec4ec9578"
      },
      "execution_count": 96,
      "outputs": [
        {
          "output_type": "stream",
          "name": "stdout",
          "text": [
            "Maximum precip on non-summer rainy days (inches): 1.8385826771653544\n"
          ]
        }
      ]
    },
    {
      "cell_type": "code",
      "source": [
        "# zadanie 4\n",
        "A = np.array([0,3,2,5])\n",
        "B = np.array([0,3,1,4])"
      ],
      "metadata": {
        "id": "J-mXgTvev9hS"
      },
      "execution_count": 97,
      "outputs": []
    },
    {
      "cell_type": "code",
      "source": [
        "# Dodaj A i B \n",
        "np.add(A ,B)"
      ],
      "metadata": {
        "colab": {
          "base_uri": "https://localhost:8080/"
        },
        "id": "m8ZApvl6weh0",
        "outputId": "5753a75a-3d30-463f-8699-a673dec43ae3"
      },
      "execution_count": 98,
      "outputs": [
        {
          "output_type": "execute_result",
          "data": {
            "text/plain": [
              "array([0, 6, 3, 9])"
            ]
          },
          "metadata": {},
          "execution_count": 98
        }
      ]
    },
    {
      "cell_type": "code",
      "source": [
        "# Odejmij B od A \n",
        "np.subtract(A, B)"
      ],
      "metadata": {
        "colab": {
          "base_uri": "https://localhost:8080/"
        },
        "id": "SEA0HZqCwdUE",
        "outputId": "d012cebc-a05d-4357-a68a-2a26c25b4541"
      },
      "execution_count": 99,
      "outputs": [
        {
          "output_type": "execute_result",
          "data": {
            "text/plain": [
              "array([0, 0, 1, 1])"
            ]
          },
          "metadata": {},
          "execution_count": 99
        }
      ]
    },
    {
      "cell_type": "code",
      "source": [
        "# Pomnóż wektor A przez skalar a=4\n",
        "np.multiply(A, 4)"
      ],
      "metadata": {
        "colab": {
          "base_uri": "https://localhost:8080/"
        },
        "id": "amNghznFwmbV",
        "outputId": "600dd934-6735-4c7d-e3ec-f990413208e5"
      },
      "execution_count": 100,
      "outputs": [
        {
          "output_type": "execute_result",
          "data": {
            "text/plain": [
              "array([ 0, 12,  8, 20])"
            ]
          },
          "metadata": {},
          "execution_count": 100
        }
      ]
    },
    {
      "cell_type": "code",
      "source": [
        "# Oblicz iloczyn skalarny wektorów A i B\n",
        "np.dot(A, B)"
      ],
      "metadata": {
        "colab": {
          "base_uri": "https://localhost:8080/"
        },
        "id": "C_N3DZU9w1OG",
        "outputId": "a40476b5-cc3a-4bf9-de63-a5c69a929a6e"
      },
      "execution_count": 101,
      "outputs": [
        {
          "output_type": "execute_result",
          "data": {
            "text/plain": [
              "31"
            ]
          },
          "metadata": {},
          "execution_count": 101
        }
      ]
    },
    {
      "cell_type": "code",
      "source": [
        "# Znajdź długość wektora B \n",
        "B.size"
      ],
      "metadata": {
        "colab": {
          "base_uri": "https://localhost:8080/"
        },
        "id": "DjX4lMAaxIMH",
        "outputId": "b4e746a7-3255-464b-fa92-2bbca2d2fe8d"
      },
      "execution_count": 102,
      "outputs": [
        {
          "output_type": "execute_result",
          "data": {
            "text/plain": [
              "4"
            ]
          },
          "metadata": {},
          "execution_count": 102
        }
      ]
    }
  ]
}